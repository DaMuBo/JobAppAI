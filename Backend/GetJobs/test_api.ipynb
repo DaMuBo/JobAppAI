{
 "cells": [
  {
   "cell_type": "markdown",
   "id": "a4f1d464-a256-4b8a-82e2-714eb540e7de",
   "metadata": {},
   "source": [
    "# Testing the API Calls\n",
    "* Request Package wird genutzt für den Test\n",
    "* https://stackoverflow.com/questions/62171090/how-programtically-exchange-the-authorization-code-to-get-the-access-token-from\n",
    "\n",
    "https://job-data-app.auth.eu-central-1.amazoncognito.com/login\n",
    "\n",
    "\n",
    "https://aws.amazon.com/de/blogs/mobile/understanding-amazon-cognito-user-pool-oauth-2-0-grants/"
   ]
  },
  {
   "cell_type": "code",
   "execution_count": 1,
   "id": "ed1ac20a-f9ef-4159-b9dd-cc88eb75bf7f",
   "metadata": {},
   "outputs": [],
   "source": [
    "import requests\n",
    "import base64\n",
    "import yaml\n",
    "\n",
    "with open(\"api_conf.yml\", encoding='utf-8') as file:\n",
    "        config = yaml.safe_load(file)"
   ]
  },
  {
   "cell_type": "code",
   "execution_count": 2,
   "id": "6e25065e-d057-4c81-9934-9cc9d8803505",
   "metadata": {},
   "outputs": [
    {
     "data": {
      "text/plain": [
       "{'url': 'https://job-data-app.auth.eu-central-1.amazoncognito.com/oauth2/token',\n",
       " 'client_id': '7crbl268bg5ffpqa8tjfnibdvr',\n",
       " 'client_secret': '92lr25ibbp5kt08knenoa4jb1ppst4g6l0vqkhc87fc3rpoi5e5',\n",
       " 'username': 'technical-app-user',\n",
       " 'password': 'Hamburger_123',\n",
       " 'redirect_url': 'http://example.com/callback',\n",
       " 'grant_type': 'implicit_grant',\n",
       " 'scope': 'mydomain.com/api_access/api_access',\n",
       " 'Content-Type': 'application/x-www-form-urlencoded'}"
      ]
     },
     "execution_count": 2,
     "metadata": {},
     "output_type": "execute_result"
    }
   ],
   "source": [
    "config"
   ]
  },
  {
   "cell_type": "code",
   "execution_count": 3,
   "id": "a3be127b-abcd-488b-98b6-65c53eea5d66",
   "metadata": {},
   "outputs": [],
   "source": [
    "LIST_OF_SCOPES = config['scope']\n",
    "COGNITO_TOKEN_ENDPOINT = config['url']\n",
    "CLIENT_ID = config['client_id']\n",
    "CLIENT_SECRET = config['client_secret']"
   ]
  },
  {
   "cell_type": "code",
   "execution_count": 29,
   "id": "7e8162cf-9363-445f-a67d-fe4750351ffe",
   "metadata": {},
   "outputs": [],
   "source": [
    "def get_access_token():\n",
    "\n",
    "    body = {\n",
    "        \"grant_type\": \"client_credentials\",\n",
    "        \"scope\": LIST_OF_SCOPES\n",
    "    }\n",
    "\n",
    "    #LOGGER.debug(\"Body: %s\", body)\n",
    "\n",
    "    headers = {\n",
    "        \"Content-Type\": \"application/x-www-form-urlencoded\"\n",
    "    }\n",
    "\n",
    "    response = requests.post(\n",
    "        url=COGNITO_TOKEN_ENDPOINT,\n",
    "        data=body,\n",
    "        auth=(CLIENT_ID, CLIENT_SECRET),\n",
    "        headers=headers\n",
    "    )\n",
    "\n",
    "    #LOGGER.debug(\"Response: %s\", response.json())\n",
    "\n",
    "    return response.json()[\"access_token\"]\n",
    "\n",
    "\n",
    "def make_api_call(token, params):\n",
    "    header={\n",
    "        \"Authorization\" : token,\n",
    "        'content-type': 'application/json'\n",
    "    }\n",
    "    response = requests.get(\"https://nkpdp11tr2.execute-api.eu-central-1.amazonaws.com/production/jobs\", headers=header, params=body)\n",
    "    \n",
    "    return response.json()\n",
    "    \n",
    "    "
   ]
  },
  {
   "cell_type": "code",
   "execution_count": 31,
   "id": "33a3c18d-eb83-4e89-8c3d-d27eb2532495",
   "metadata": {},
   "outputs": [
    {
     "data": {
      "text/plain": [
       "{'skills': 'Python', 'timeframe': '2022-06-27 13:00.00', 'jobs': ''}"
      ]
     },
     "execution_count": 31,
     "metadata": {},
     "output_type": "execute_result"
    }
   ],
   "source": [
    "token = get_access_token()\n",
    "\n",
    "body= {\n",
    "    \"skills\":'Python',\n",
    "    \"timeframe\": ['2021-05-27 12:00:00','2022-06-27 13:00.00']\n",
    "}\n",
    "make_api_call(token, body)"
   ]
  },
  {
   "cell_type": "code",
   "execution_count": null,
   "id": "8cb1796d-706d-4350-b6d4-ff16a58f8145",
   "metadata": {},
   "outputs": [],
   "source": []
  },
  {
   "cell_type": "code",
   "execution_count": null,
   "id": "61ebf618-8a0b-4ecc-af37-e79a610400b6",
   "metadata": {},
   "outputs": [],
   "source": []
  }
 ],
 "metadata": {
  "kernelspec": {
   "display_name": "Python 3",
   "language": "python",
   "name": "python3"
  },
  "language_info": {
   "codemirror_mode": {
    "name": "ipython",
    "version": 3
   },
   "file_extension": ".py",
   "mimetype": "text/x-python",
   "name": "python",
   "nbconvert_exporter": "python",
   "pygments_lexer": "ipython3",
   "version": "3.8.8"
  }
 },
 "nbformat": 4,
 "nbformat_minor": 5
}
