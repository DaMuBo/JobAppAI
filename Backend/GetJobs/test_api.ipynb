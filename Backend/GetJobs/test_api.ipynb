{
 "cells": [
  {
   "cell_type": "markdown",
   "id": "a4f1d464-a256-4b8a-82e2-714eb540e7de",
   "metadata": {},
   "source": [
    "# Testing the API Calls\n",
    "* Request Package wird genutzt für den Test\n",
    "* https://stackoverflow.com/questions/62171090/how-programtically-exchange-the-authorization-code-to-get-the-access-token-from\n",
    "\n",
    "https://job-data-app.auth.eu-central-1.amazoncognito.com/login\n",
    "\n",
    "\n",
    "https://aws.amazon.com/de/blogs/mobile/understanding-amazon-cognito-user-pool-oauth-2-0-grants/"
   ]
  },
  {
   "cell_type": "code",
   "execution_count": 3,
   "id": "ed1ac20a-f9ef-4159-b9dd-cc88eb75bf7f",
   "metadata": {},
   "outputs": [],
   "source": [
    "import requests\n",
    "import base64\n",
    "import yaml\n",
    "\n",
    "with open(\"api_conf.yml\", encoding='utf-8') as file:\n",
    "        config = yaml.safe_load(file)"
   ]
  },
  {
   "cell_type": "code",
   "execution_count": 4,
   "id": "6e25065e-d057-4c81-9934-9cc9d8803505",
   "metadata": {},
   "outputs": [
    {
     "data": {
      "text/plain": [
       "{'url': 'https://job-data-app.auth.eu-central-1.amazoncognito.com/oauth2/token',\n",
       " 'client_id': '7crbl268bg5ffpqa8tjfnibdvr',\n",
       " 'client_secret': '92lr25ibbp5kt08knenoa4jb1ppst4g6l0vqkhc87fc3rpoi5e5',\n",
       " 'redirect_url': 'http://example.com/callback',\n",
       " 'grant_type': 'client_credentials',\n",
       " 'scope': 'mydomain.com/api_access/api_access',\n",
       " 'Content-Type': 'application/x-www-form-urlencoded'}"
      ]
     },
     "execution_count": 4,
     "metadata": {},
     "output_type": "execute_result"
    }
   ],
   "source": [
    "config"
   ]
  },
  {
   "cell_type": "code",
   "execution_count": 5,
   "id": "a3be127b-abcd-488b-98b6-65c53eea5d66",
   "metadata": {},
   "outputs": [],
   "source": [
    "LIST_OF_SCOPES = config['scope']\n",
    "COGNITO_TOKEN_ENDPOINT = config['url']\n",
    "CLIENT_ID = config['client_id']\n",
    "CLIENT_SECRET = config['client_secret']"
   ]
  },
  {
   "cell_type": "code",
   "execution_count": 6,
   "id": "7e8162cf-9363-445f-a67d-fe4750351ffe",
   "metadata": {},
   "outputs": [],
   "source": [
    "def get_access_token():\n",
    "\n",
    "    body = {\n",
    "        \"grant_type\": \"client_credentials\",\n",
    "        \"scope\": LIST_OF_SCOPES\n",
    "    }\n",
    "\n",
    "    #LOGGER.debug(\"Body: %s\", body)\n",
    "\n",
    "    headers = {\n",
    "        \"Content-Type\": \"application/x-www-form-urlencoded\"\n",
    "    }\n",
    "\n",
    "    response = requests.post(\n",
    "        url=COGNITO_TOKEN_ENDPOINT,\n",
    "        data=body,\n",
    "        auth=(CLIENT_ID, CLIENT_SECRET),\n",
    "        headers=headers\n",
    "    )\n",
    "\n",
    "    #LOGGER.debug(\"Response: %s\", response.json())\n",
    "\n",
    "    return response.json()[\"access_token\"]\n",
    "\n",
    "\n",
    "def make_api_call(token, params):\n",
    "    header={\n",
    "        \"Authorization\" : token,\n",
    "        'content-type': 'application/json'\n",
    "    }\n",
    "    response = requests.get(\"https://nkpdp11tr2.execute-api.eu-central-1.amazonaws.com/production/skills\", headers=header, params=params)\n",
    "    \n",
    "    return response.json()\n",
    "    \n",
    "    "
   ]
  },
  {
   "cell_type": "code",
   "execution_count": 19,
   "id": "33a3c18d-eb83-4e89-8c3d-d27eb2532495",
   "metadata": {},
   "outputs": [
    {
     "data": {
      "text/plain": [
       "'{\"statusCode\": 200, \"body\": {\"entwicklung\": 0.36936936936936937, \"datenbanken\": 0.3153153153153153, \"sql\": 0.2702702702702703, \"python\": 0.23423423423423423, \"dashboards\": 0.22522522522522523, \"tableau\": 0.21621621621621623, \"excel\": 0.1981981981981982, \"sap\": 0.15315315315315314, \"datenmodellierung\": 0.13513513513513514, \"data analytics\": 0.12612612612612611, \"business intelligence\": 0.12612612612612611, \"microsoft\": 0.10810810810810811, \"machine learning\": 0.09009009009009009, \"big data\": 0.09009009009009009, \"datenvisualisierung\": 0.09009009009009009, \"r\": 0.08108108108108109, \"data warehouse\": 0.06306306306306306, \"analysis\": 0.06306306306306306, \"ms office\": 0.06306306306306306, \"qlikview\": 0.06306306306306306, \"cloud\": 0.04504504504504504, \"etl\": 0.04504504504504504, \"java\": 0.04504504504504504, \"datenstrukturen\": 0.036036036036036036, \"datenmanagement\": 0.036036036036036036, \"relationalen datenbanken\": 0.036036036036036036, \"stellenanzeigen.de\": 0.036036036036036036, \"microsoft power bi\": 0.02702702702702703, \"microsoft power plattform\": 0.02702702702702703, \"well-known\": 0.02702702702702703, \"reportings\": 0.02702702702702703, \"sas\": 0.02702702702702703, \"scala\": 0.02702702702702703, \"confluence\": 0.02702702702702703, \"business architecture\": 0.02702702702702703, \"ms excel\": 0.02702702702702703, \")\": 0.018018018018018018, \"microsoft powerbi\": 0.018018018018018018, \"dax\": 0.018018018018018018, \"hadoop\": 0.018018018018018018, \"vba\": 0.018018018018018018, \"oracle\": 0.018018018018018018, \"mssql\": 0.018018018018018018, \"advanced analytics\": 0.018018018018018018, \"21.\": 0.018018018018018018, \"microsoft azure\": 0.018018018018018018, \"data warehouses\": 0.018018018018018018, \"applikations-\": 0.018018018018018018, \"powerbi\": 0.018018018018018018, \"jira\": 0.018018018018018018, \"transformation\": 0.018018018018018018, \"systemintegration\": 0.018018018018018018, \"kurs\": 0.018018018018018018, \"css\": 0.018018018018018018, \"lumira\": 0.018018018018018018, \"word\": 0.009009009009009009, \"klimastrategie\": 0.009009009009009009, \"machine learning-methoden\": 0.009009009009009009, \"open-minded\": 0.009009009009009009, \"c\": 0.009009009009009009, \"t-sql\": 0.009009009009009009, \"datenbank-\": 0.009009009009009009, \"ax-\": 0.009009009009009009, \"\\\\u00f6pnv\": 0.009009009009009009, \"ein\\\\u00adtrittstermins\": 0.009009009009009009, \"qualit\\\\u00e4ts-standards\": 0.009009009009009009, \"cbm\": 0.009009009009009009, \"standard-bibliotheken\": 0.009009009009009009, \"azure cloud\": 0.009009009009009009, \"databricks\": 0.009009009009009009, \"controllingprozessen\": 0.009009009009009009, \"elektrifizierungs-innovation\": 0.009009009009009009, \"business warehouse\": 0.009009009009009009, \"kredit-scorecards\": 0.009009009009009009, \"kreditantr\\\\u00e4ge\": 0.009009009009009009, \"windows\": 0.009009009009009009, \"stellenangebot\": 0.009009009009009009, \"visual studio idealerweise\": 0.009009009009009009, \"a.henkel@abalongroup.de\": 0.009009009009009009, \"ssis\": 0.009009009009009009, \"gcp\": 0.009009009009009009, \"docker\": 0.009009009009009009, \"go\": 0.009009009009009009, \"golang\": 0.009009009009009009, \"javascript\": 0.009009009009009009, \"kubernetes\": 0.009009009009009009, \"-bereitschaft\": 0.009009009009009009, \"nps\": 0.009009009009009009, \"losgeradelt\": 0.009009009009009009, \"kundenpricings\": 0.009009009009009009, \"c++\": 0.009009009009009009, \"dwh standards\": 0.009009009009009009, \"newsql\": 0.009009009009009009, \"linux\": 0.009009009009009009, \"mdx\": 0.009009009009009009, \"pentaho pdi\": 0.009009009009009009, \"nosql\": 0.009009009009009009, \"bela-akademie\": 0.009009009009009009, \"daten visualisierungs\": 0.009009009009009009, \"olap\": 0.009009009009009009, \"argumentationsweise\": 0.009009009009009009, \"einstellungstermins\": 0.009009009009009009, \"database systems\": 0.009009009009009009, \"c#\": 0.009009009009009009, \"no.1\": 0.009009009009009009, \"audi\": 0.009009009009009009, \"website-performance\": 0.009009009009009009, \"schau\": 0.009009009009009009, \"azure\": 0.009009009009009009, \"qlik sense\": 0.009009009009009009, \"aws\": 0.009009009009009009, \"mirrorbl\\\\u00f6cke\": 0.009009009009009009}}'"
      ]
     },
     "execution_count": 19,
     "metadata": {},
     "output_type": "execute_result"
    }
   ],
   "source": [
    "token = get_access_token()\n",
    "\n",
    "body= {\n",
    "    \"jobs\":\"analyst\",\n",
    "    \"timeframe\": 10\n",
    "}\n",
    "make_api_call(token, body)"
   ]
  },
  {
   "cell_type": "code",
   "execution_count": 38,
   "id": "8cb1796d-706d-4350-b6d4-ff16a58f8145",
   "metadata": {},
   "outputs": [
    {
     "ename": "SyntaxError",
     "evalue": "invalid syntax (<ipython-input-38-74ab6d81c94e>, line 1)",
     "output_type": "error",
     "traceback": [
      "\u001b[1;36m  File \u001b[1;32m\"<ipython-input-38-74ab6d81c94e>\"\u001b[1;36m, line \u001b[1;32m1\u001b[0m\n\u001b[1;33m    https://nkpdp11tr2.execute-api.eu-central-1.amazonaws.com/production\u001b[0m\n\u001b[1;37m          ^\u001b[0m\n\u001b[1;31mSyntaxError\u001b[0m\u001b[1;31m:\u001b[0m invalid syntax\n"
     ]
    }
   ],
   "source": [
    "https://nkpdp11tr2.execute-api.eu-central-1.amazonaws.com/production"
   ]
  },
  {
   "cell_type": "code",
   "execution_count": null,
   "id": "61ebf618-8a0b-4ecc-af37-e79a610400b6",
   "metadata": {},
   "outputs": [],
   "source": []
  }
 ],
 "metadata": {
  "kernelspec": {
   "display_name": "Python 3",
   "language": "python",
   "name": "python3"
  },
  "language_info": {
   "codemirror_mode": {
    "name": "ipython",
    "version": 3
   },
   "file_extension": ".py",
   "mimetype": "text/x-python",
   "name": "python",
   "nbconvert_exporter": "python",
   "pygments_lexer": "ipython3",
   "version": "3.8.8"
  }
 },
 "nbformat": 4,
 "nbformat_minor": 5
}
