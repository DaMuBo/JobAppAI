{
 "cells": [
  {
   "cell_type": "markdown",
   "id": "a4f1d464-a256-4b8a-82e2-714eb540e7de",
   "metadata": {},
   "source": [
    "# Testing the API Calls\n",
    "* Request Package wird genutzt für den Test\n",
    "* https://stackoverflow.com/questions/62171090/how-programtically-exchange-the-authorization-code-to-get-the-access-token-from\n",
    "\n",
    "https://job-data-app.auth.eu-central-1.amazoncognito.com/login\n",
    "\n",
    "\n",
    "https://aws.amazon.com/de/blogs/mobile/understanding-amazon-cognito-user-pool-oauth-2-0-grants/"
   ]
  },
  {
   "cell_type": "code",
   "execution_count": 4,
   "id": "ed1ac20a-f9ef-4159-b9dd-cc88eb75bf7f",
   "metadata": {},
   "outputs": [],
   "source": [
    "import requests\n",
    "import base64\n",
    "import yaml\n",
    "\n",
    "with open(\"api_conf.yml\", encoding='utf-8') as file:\n",
    "        config = yaml.safe_load(file)"
   ]
  },
  {
   "cell_type": "code",
   "execution_count": 5,
   "id": "6e25065e-d057-4c81-9934-9cc9d8803505",
   "metadata": {},
   "outputs": [
    {
     "data": {
      "text/plain": [
       "{'url': 'https://job-data-app.auth.eu-central-1.amazoncognito.com/oauth2/token',\n",
       " 'client_id': '7crbl268bg5ffpqa8tjfnibdvr',\n",
       " 'client_secret': '92lr25ibbp5kt08knenoa4jb1ppst4g6l0vqkhc87fc3rpoi5e5',\n",
       " 'redirect_url': 'http://example.com/callback',\n",
       " 'grant_type': 'client_credentials',\n",
       " 'scope': 'mydomain.com/api_access/api_access',\n",
       " 'Content-Type': 'application/x-www-form-urlencoded'}"
      ]
     },
     "execution_count": 5,
     "metadata": {},
     "output_type": "execute_result"
    }
   ],
   "source": [
    "config"
   ]
  },
  {
   "cell_type": "code",
   "execution_count": 6,
   "id": "a3be127b-abcd-488b-98b6-65c53eea5d66",
   "metadata": {},
   "outputs": [],
   "source": [
    "LIST_OF_SCOPES = config['scope']\n",
    "COGNITO_TOKEN_ENDPOINT = config['url']\n",
    "CLIENT_ID = config['client_id']\n",
    "CLIENT_SECRET = config['client_secret']"
   ]
  },
  {
   "cell_type": "code",
   "execution_count": 32,
   "id": "7e8162cf-9363-445f-a67d-fe4750351ffe",
   "metadata": {},
   "outputs": [],
   "source": [
    "def get_access_token():\n",
    "\n",
    "    body = {\n",
    "        \"grant_type\": \"client_credentials\",\n",
    "        \"scope\": LIST_OF_SCOPES\n",
    "    }\n",
    "\n",
    "    #LOGGER.debug(\"Body: %s\", body)\n",
    "\n",
    "    headers = {\n",
    "        \"Content-Type\": \"application/x-www-form-urlencoded\"\n",
    "    }\n",
    "\n",
    "    response = requests.post(\n",
    "        url=COGNITO_TOKEN_ENDPOINT,\n",
    "        data=body,\n",
    "        auth=(CLIENT_ID, CLIENT_SECRET),\n",
    "        headers=headers\n",
    "    )\n",
    "\n",
    "    #LOGGER.debug(\"Response: %s\", response.json())\n",
    "\n",
    "    return response.json()[\"access_token\"]\n",
    "\n",
    "\n",
    "def make_api_call(token, params):\n",
    "    header={\n",
    "        \"Authorization\" : token,\n",
    "        'content-type': 'application/json'\n",
    "    }\n",
    "    response = requests.get(\"https://nkpdp11tr2.execute-api.eu-central-1.amazonaws.com/production/skills\", headers=header, params=params)\n",
    "    \n",
    "    return response.json()\n",
    "    \n",
    "    "
   ]
  },
  {
   "cell_type": "code",
   "execution_count": 39,
   "id": "33a3c18d-eb83-4e89-8c3d-d27eb2532495",
   "metadata": {},
   "outputs": [
    {
     "data": {
      "text/plain": [
       "'{\"statusCode\": 200, \"body\": {\"entwicklung\": 0.23870220162224798, \"python\": 0.17265353418308227, \"sql\": 0.16222479721900349, \"datenbanken\": 0.1413673232908459, \"cloud\": 0.13904982618771727, \"big data\": 0.12862108922363846, \"sap\": 0.08574739281575898, \"machine learning\": 0.07415990730011587, \"java\": 0.06488991888760139, \"business intelligence\": 0.06488991888760139, \"data warehouse\": 0.06141367323290846, \"etl\": 0.054461181923522596, \"data analytics\": 0.05098493626882966, \"dashboards\": 0.04982618771726535, \"tableau\": 0.04982618771726535, \"microsoft\": 0.04866743916570104, \"datenmodellierung\": 0.047508690614136734, \"aws\": 0.04519119351100811, \"devops\": 0.0440324449594438, \"r\": 0.0440324449594438, \"excel\": 0.04287369640787949, \"azure\": 0.039397450753186555, \"k\\\\u00fcnstliche intelligenz\": 0.03707995365005794, \"datenmanagement\": 0.03592120509849363, \"scala\": 0.03360370799536501, \"analysis\": 0.031286210892236384, \"linux\": 0.030127462340672075, \"datenvisualisierung\": 0.027809965237543453, \"data engineering\": 0.027809965237543453, \"datenstrukturen\": 0.026651216685979143, \"ms office\": 0.02433371958285052, \"spark\": 0.02085747392815759, \"advanced analytics\": 0.02085747392815759, \"hadoop\": 0.01853997682502897, \"docker\": 0.01738122827346466, \"relationalen datenbanken\": 0.01738122827346466, \"systemintegration\": 0.016222479721900347, \"qlikview\": 0.016222479721900347, \"data warehouses\": 0.015063731170336037, \"etl-strecken\": 0.015063731170336037, \")\": 0.015063731170336037, \"nosql\": 0.015063731170336037, \"kubernetes\": 0.015063731170336037, \"deep learning\": 0.015063731170336037, \"kafka\": 0.013904982618771726, \"iot\": 0.013904982618771726, \"artificial intelligence\": 0.013904982618771726, \"apache spark\": 0.012746234067207415, \"transformation\": 0.012746234067207415, \"powerbi\": 0.012746234067207415, \"microsoft power bi\": 0.011587485515643106, \"git\": 0.011587485515643106, \"elt\": 0.011587485515643106, \"databricks\": 0.011587485515643106, \"data lakes\": 0.011587485515643106, \"oracle\": 0.011587485515643106, \"infrastructure as code\": 0.011587485515643106, \"sas\": 0.010428736964078795, \"c++\": 0.010428736964078795, \"reportings\": 0.010428736964078795, \"ms excel\": 0.010428736964078795, \"kategorien\": 0.009269988412514484, \"dax\": 0.009269988412514484, \"\\\\u00f6pnv\": 0.009269988412514484, \"-services\": 0.009269988412514484, \"continuous delivery\": 0.009269988412514484, \"azure cloud\": 0.009269988412514484, \"unix\": 0.009269988412514484, \"javascript\": 0.009269988412514484, \"jira\": 0.009269988412514484, \"softwarearchitektur\": 0.008111239860950173, \"apis\": 0.008111239860950173, \"c\": 0.008111239860950173, \"ssis\": 0.008111239860950173, \"confluence\": 0.008111239860950173, \"requisition\": 0.008111239860950173, \"relational databases\": 0.008111239860950173, \"vba\": 0.008111239860950173, \"microsoft azure\": 0.008111239860950173, \"rest apis\": 0.006952491309385863, \"well-known\": 0.006952491309385863, \"qlik sense\": 0.006952491309385863, \"ms sql\": 0.006952491309385863, \"gcp\": 0.006952491309385863, \"github\": 0.006952491309385863, \"additional locations\": 0.006952491309385863, \"mdx\": 0.005793742757821553, \"microsoft powerbi\": 0.005793742757821553, \"osp\": 0.005793742757821553, \"datenbank-\": 0.005793742757821553, \"phyton\": 0.005793742757821553, \"21.\": 0.005793742757821553, \"windows\": 0.005793742757821553, \"metadatenmanagement\": 0.004634994206257242, \"##\": 0.004634994206257242, \"c#\": 0.004634994206257242, \"matlab\": 0.004634994206257242, \"ms sql server\": 0.004634994206257242, \"mysql\": 0.004634994206257242, \"machine learning-methoden\": 0.004634994206257242, \"t-sql\": 0.004634994206257242, \"pat*innenprogramm\": 0.004634994206257242, \"stellenangebot\": 0.004634994206257242, \"multi-cloud\": 0.004634994206257242, \"datenbankabfragen\": 0.004634994206257242, \"stellenanzeigen.de\": 0.004634994206257242, \"css\": 0.004634994206257242, \"cisco\": 0.004634994206257242, \"can\": 0.004634994206257242, \"apache hadoop\": 0.0034762456546929316, \"azuresynapse\": 0.0034762456546929316, \"microsoft power plattform\": 0.0034762456546929316, \"skills\": 0.0034762456546929316, \"microservices\": 0.0034762456546929316, \"ingestion\": 0.0034762456546929316, \"xml\": 0.0034762456546929316, \"itil\": 0.0034762456546929316, \"premium-finanz-\": 0.0034762456546929316, \"engineering-personalmarktes\": 0.0034762456546929316, \"validation\": 0.0034762456546929316, \"business architecture\": 0.0034762456546929316, \"careers@hesys-engineering.de\": 0.0034762456546929316, \"09.06.2022\": 0.0034762456546929316, \"no.1\": 0.0034762456546929316, \"science-umfeld\": 0.0034762456546929316, \"stata\": 0.002317497103128621, \"golang\": 0.002317497103128621, \"ansible\": 0.002317497103128621, \"warenwirtschafts-\": 0.002317497103128621, \"realization\": 0.002317497103128621, \"mein\": 0.002317497103128621, \"schau\": 0.002317497103128621, \"daten-expertise\": 0.002317497103128621, \"mssql\": 0.002317497103128621, \"qualit\\\\u00e4ts-standards\": 0.002317497103128621, \"spring\": 0.002317497103128621, \"aws-cloud\": 0.002317497103128621, \"cbm\": 0.002317497103128621, \"obstkorb\": 0.002317497103128621, \"-bereitschaft\": 0.002317497103128621, \"business warehouse\": 0.002317497103128621, \"data automation\": 0.002317497103128621, \"queries\": 0.002317497103128621, \"data warehousing\": 0.002317497103128621, \"business consulting\": 0.002317497103128621, \"4012.\": 0.002317497103128621, \"data anwendungen\": 0.002317497103128621, \"operational logistics\": 0.002317497103128621, \"big data pipelines\": 0.002317497103128621, \"olap\": 0.002317497103128621, \"stand-up\": 0.002317497103128621, \"stammdaten-handling\": 0.002317497103128621, \"manager\": 0.002317497103128621, \"-dashboards\": 0.002317497103128621, \"powerautomate\": 0.002317497103128621, \"kandidatenpool\": 0.002317497103128621, \"holistic\": 0.002317497103128621, \"helm\": 0.002317497103128621, \"datentypen\": 0.002317497103128621, \"machine learning-verfahren\": 0.002317497103128621, \"san\": 0.002317497103128621, \") as part\": 0.002317497103128621, \"eclipse\": 0.002317497103128621, \"einstellungstermins\": 0.002317497103128621, \"kurs\": 0.002317497103128621, \"customer-friendly\": 0.002317497103128621, \"data data\": 0.002317497103128621, \"dach\": 0.002317497103128621, \"pentaho\": 0.002317497103128621, \"microsoft powerbi, azureml\": 0.002317497103128621, \"lumira\": 0.002317497103128621, \"advanced data\": 0.002317497103128621, \"deutschlandweites\": 0.002317497103128621, \"www.layagroup.de\": 0.002317497103128621, \"ms-sql\": 0.002317497103128621, \"zone\": 0.0011587485515643105, \"word\": 0.0011587485515643105, \"klimastrategie\": 0.0011587485515643105, \"c1-level\": 0.0011587485515643105, \"relational data\": 0.0011587485515643105, \"near-realtime\": 0.0011587485515643105, \"pubsub-services\": 0.0011587485515643105, \"visual studio\": 0.0011587485515643105, \"microsoft server\": 0.0011587485515643105, \"metallgewerbe\": 0.0011587485515643105, \"www.amanngirrbach.com\": 0.0011587485515643105, \"open-minded\": 0.0011587485515643105, \"eu-dsgvo\": 0.0011587485515643105, \"business central\": 0.0011587485515643105, \"ms dynamics\": 0.0011587485515643105, \"customer-journey\": 0.0011587485515643105, \"kostensenkung\": 0.0011587485515643105, \"mongodb\": 0.0011587485515643105, \"technologie-stacks\": 0.0011587485515643105, \"azure databricks\": 0.0011587485515643105, \"like:-\": 0.0011587485515643105, \"database,\": 0.0011587485515643105, \"sao\": 0.0011587485515643105, \"database management\": 0.0011587485515643105, \"lebensweise\": 0.0011587485515643105, \"sap solution manager workcenter\": 0.0011587485515643105, \"nse\": 0.0011587485515643105, \"sap dvm cloud solution\": 0.0011587485515643105, \"nls\": 0.0011587485515643105, \"ms data\": 0.0011587485515643105, \"apache-kafka\": 0.0011587485515643105, \"optimierungsans\\\\u00e4tze\": 0.0011587485515643105, \"ax-\": 0.0011587485515643105, \"ein\\\\u00adtrittstermins\": 0.0011587485515643105, \"relationalen datenbank-systemen\": 0.0011587485515643105, \"etl-datenstrecken\": 0.0011587485515643105, \"abwesenheitszeiten\": 0.0011587485515643105, \"mitwirken\": 0.0011587485515643105, \"it-stack\": 0.0011587485515643105, \"angular\": 0.0011587485515643105, \"standard-bibliotheken\": 0.0011587485515643105, \"controllingprozessen\": 0.0011587485515643105, \"database developer\": 0.0011587485515643105, \"cloud-datenbanken\": 0.0011587485515643105, \"ms azure\": 0.0011587485515643105, \"kernzeit-regelung\": 0.0011587485515643105, \"office anwendungen\": 0.0011587485515643105, \"deko-theken\": 0.0011587485515643105, \"elektrifizierungs-innovation\": 0.0011587485515643105, \"-strukturen\": 0.0011587485515643105, \"nodejs\": 0.0011587485515643105, \"data developer\": 0.0011587485515643105, \"wir-machen-das-hier.de\": 0.0011587485515643105, \"parquet\": 0.0011587485515643105, \"json\": 0.0011587485515643105, \"kinesis\": 0.0011587485515643105, \"corrugated\": 0.0011587485515643105, \"ansprache-logiken\": 0.0011587485515643105, \"daimler-truck\": 0.0011587485515643105, \"step\": 0.0011587485515643105, \"lizenz-\": 0.0011587485515643105, \"notenbanken\": 0.0011587485515643105, \"kredit-scorecards\": 0.0011587485515643105, \"kreditantr\\\\u00e4ge\": 0.0011587485515643105, \"applikations-\": 0.0011587485515643105, \"know-hows\": 0.0011587485515643105, \"visual studio idealerweise\": 0.0011587485515643105, \"a.henkel@abalongroup.de\": 0.0011587485515643105, \"-ausarbeitung\": 0.0011587485515643105, \"krakow\": 0.0011587485515643105, \"kurzreiseportal\": 0.0011587485515643105, \"kurzreise-segment\": 0.0011587485515643105, \"go\": 0.0011587485515643105, \"masterstudiengang\": 0.0011587485515643105, \"sensor intelligence\": 0.0011587485515643105, \"web-technologien\": 0.0011587485515643105, \"\\\\u25fewissen\": 0.0011587485515643105, \"hardware-\": 0.0011587485515643105, \"skalierung\": 0.0011587485515643105, \"domains\": 0.0011587485515643105, \"ms-office anwendungen\": 0.0011587485515643105, \"11571.\": 0.0011587485515643105, \"jenkins\": 0.0011587485515643105, \"st\\\\u00e4ndig\": 0.0011587485515643105, \"oneview\": 0.0011587485515643105, \"business segments\": 0.0011587485515643105, \"d\\\\u00e4mpfungsspektrum\": 0.0011587485515643105, \"nps\": 0.0011587485515643105, \"kostentr\\\\u00e4gerrechnung\": 0.0011587485515643105, \"losgeradelt\": 0.0011587485515643105, \"elektro-\": 0.0011587485515643105, \"hr@avancis.de\": 0.0011587485515643105, \"oracle datenbanken\": 0.0011587485515643105, \"-zugang\": 0.0011587485515643105, \"business intelligence-tools\": 0.0011587485515643105, \"gdv\": 0.0011587485515643105, \"13.500 firmen  \": 0.0011587485515643105, \"kundenpricings\": 0.0011587485515643105, \"u.s.\": 0.0011587485515643105, \"commercial-stage\": 0.0011587485515643105, \"kodierungsstandards\": 0.0011587485515643105, \"marktoberdorf\": 0.0011587485515643105, \"preevision\": 0.0011587485515643105, \"reporting-standards\": 0.0011587485515643105, \"onboarding-programm\": 0.0011587485515643105, \"system-administration\": 0.0011587485515643105, \"dwh standards\": 0.0011587485515643105, \"newsql\": 0.0011587485515643105, \"pentaho pdi\": 0.0011587485515643105, \"bela-akademie\": 0.0011587485515643105, \"daten visualisierungs\": 0.0011587485515643105, \"argumentationsweise\": 0.0011587485515643105, \"datenschutz-fragen\": 0.0011587485515643105, \"btb\": 0.0011587485515643105, \"database systems\": 0.0011587485515643105, \"ms-excel\": 0.0011587485515643105, \"karriere-seite\": 0.0011587485515643105, \"sae\": 0.0011587485515643105, \"ms-azure\": 0.0011587485515643105, \"managedcyberdefense #\": 0.0011587485515643105, \"alarm-abarbeitung\": 0.0011587485515643105, \"security-umfeld\": 0.0011587485515643105, \"defense\": 0.0011587485515643105, \"kundenbetreuer\": 0.0011587485515643105, \"data engineering-\": 0.0011587485515643105, \"audi\": 0.0011587485515643105, \"data-driven\": 0.0011587485515643105, \"website-performance\": 0.0011587485515643105, \"ms office-programmen\": 0.0011587485515643105, \"compliance\": 0.0011587485515643105, \"inluft-\": 0.0011587485515643105, \"delta lakes\": 0.0011587485515643105, \"https://www.empfehlungsbund.de/jobs/181206/business-intelligence-expert-gn-data-und-cloud\": 0.0011587485515643105, \"relationalen datenbank-technologien\": 0.0011587485515643105, \"oem\": 0.0011587485515643105, \"ministerien\": 0.0011587485515643105, \"inc\": 0.0011587485515643105, \"machine data\": 0.0011587485515643105, \"xxxl\": 0.0011587485515643105, \"data delivery\": 0.0011587485515643105, \"les\": 0.0011587485515643105, \"rest api\": 0.0011587485515643105, \"recruiting@rtl.de\": 0.0011587485515643105, \"methodenentwicklung\": 0.0011587485515643105, \"arzneimittelrisiken\": 0.0011587485515643105, \"obsoleszenz-\": 0.0011587485515643105, \"mobilit\\\\u00e4tsumfeld\": 0.0011587485515643105, \"ui-/ux-design\": 0.0011587485515643105, \"] #\": 0.0011587485515643105, \"dienstleistungsorientierung\": 0.0011587485515643105, \"jobrad-angebot\": 0.0011587485515643105, \"software-manufaktur\": 0.0011587485515643105, \"kernwerte #\": 0.0011587485515643105, \"lerntechniken\": 0.0011587485515643105, \"up-cycling\": 0.0011587485515643105, \"ms windows\": 0.0011587485515643105, \"integration suite\": 0.0011587485515643105, \"26262.\": 0.0011587485515643105, \"projektziels\": 0.0011587485515643105, \"kenntnisseimdata engineering\": 0.0011587485515643105, \"undwachstumsm\\\\u00f6glichkeitenimbereichdata engineering\": 0.0011587485515643105}}'"
      ]
     },
     "execution_count": 39,
     "metadata": {},
     "output_type": "execute_result"
    }
   ],
   "source": [
    "token = get_access_token()\n",
    "\n",
    "body= {\n",
    "    \"jobs\":\"data\",\n",
    "    \"timeframe\": 10\n",
    "}\n",
    "make_api_call(token, body)"
   ]
  },
  {
   "cell_type": "code",
   "execution_count": 38,
   "id": "8cb1796d-706d-4350-b6d4-ff16a58f8145",
   "metadata": {},
   "outputs": [
    {
     "ename": "SyntaxError",
     "evalue": "invalid syntax (<ipython-input-38-74ab6d81c94e>, line 1)",
     "output_type": "error",
     "traceback": [
      "\u001b[1;36m  File \u001b[1;32m\"<ipython-input-38-74ab6d81c94e>\"\u001b[1;36m, line \u001b[1;32m1\u001b[0m\n\u001b[1;33m    https://nkpdp11tr2.execute-api.eu-central-1.amazonaws.com/production\u001b[0m\n\u001b[1;37m          ^\u001b[0m\n\u001b[1;31mSyntaxError\u001b[0m\u001b[1;31m:\u001b[0m invalid syntax\n"
     ]
    }
   ],
   "source": [
    "https://nkpdp11tr2.execute-api.eu-central-1.amazonaws.com/production"
   ]
  },
  {
   "cell_type": "code",
   "execution_count": null,
   "id": "61ebf618-8a0b-4ecc-af37-e79a610400b6",
   "metadata": {},
   "outputs": [],
   "source": []
  }
 ],
 "metadata": {
  "kernelspec": {
   "display_name": "Python 3",
   "language": "python",
   "name": "python3"
  },
  "language_info": {
   "codemirror_mode": {
    "name": "ipython",
    "version": 3
   },
   "file_extension": ".py",
   "mimetype": "text/x-python",
   "name": "python",
   "nbconvert_exporter": "python",
   "pygments_lexer": "ipython3",
   "version": "3.8.8"
  }
 },
 "nbformat": 4,
 "nbformat_minor": 5
}
