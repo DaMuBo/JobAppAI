{
 "cells": [
  {
   "cell_type": "code",
   "execution_count": 50,
   "id": "b91ec27c-7217-46c3-8a3f-4ff14ddc4c65",
   "metadata": {},
   "outputs": [],
   "source": [
    "from diagrams import Cluster, Diagram, Edge\n",
    "from diagrams.aws.compute import Lambda\n",
    "from diagrams.aws.database import Dynamodb\n",
    "from diagrams.aws.storage import S3\n",
    "from diagrams.aws.integration import Eventbridge\n",
    "from diagrams.aws.general import InternetGateway, InternetAlt1\n",
    "from diagrams.generic.device import Mobile\n",
    "\n",
    "\n",
    "with Diagram(\"BackendAPICalls_V0_1\", show=False, direction=\"LR\"):\n",
    "    with Cluster('External API'):\n",
    "        restAPI = InternetAlt1(\"REST API\")\n",
    "    \n",
    "    EventSchedule = Eventbridge('Data Load Scheduler')\n",
    "    \n",
    "    with Cluster('Backend'):\n",
    "\n",
    "        \n",
    "        with Cluster(\"API Call Services\"):\n",
    "            Arbeitsagentur = Lambda(\"Arbeitsagentur Data Load\") \n",
    "            apicall_group = [Arbeitsagentur]\n",
    "\n",
    "        \n",
    "\n",
    "        with Cluster('Data Storage'):\n",
    "            DocumentDB = Dynamodb(\"Job Data DB\")\n",
    "            LearnBucket = S3(\"Learning Data\")\n",
    "        #ModelBucket = S3(\"ML Model\")\n",
    "        \n",
    "        createManifest = Lambda(\"Create Sagemaker Manifest\")\n",
    "\n",
    "        with Cluster(\"Frontend API Functions\"):\n",
    "            frontendfunctions = [\n",
    "                Lambda(\"GetSkills\"),\n",
    "                Lambda(\"GetJobs\")\n",
    "            ]\n",
    "            \n",
    "    with Cluster('Frontend'):\n",
    "        frontendAPI = InternetGateway(\"Frontend API Gateway\")\n",
    "        endgeraet = Mobile('Client')\n",
    "    \n",
    "    restAPI >> Edge(label=\"GET Request\") >> apicall_group\n",
    "    EventSchedule >> apicall_group\n",
    "    EventSchedule >> createManifest\n",
    "    DocumentDB >> LearnBucket\n",
    "    apicall_group >> DocumentDB\n",
    "    DocumentDB >> createManifest >> LearnBucket  \n",
    "    DocumentDB >> frontendfunctions\n",
    "    frontendfunctions >> frontendAPI\n",
    "    frontendAPI << endgeraet\n",
    "    \n",
    "    "
   ]
  },
  {
   "cell_type": "code",
   "execution_count": null,
   "id": "81f511a4-19c1-4361-babc-6a07810dcb23",
   "metadata": {},
   "outputs": [],
   "source": []
  }
 ],
 "metadata": {
  "kernelspec": {
   "display_name": "Python 3",
   "language": "python",
   "name": "python3"
  },
  "language_info": {
   "codemirror_mode": {
    "name": "ipython",
    "version": 3
   },
   "file_extension": ".py",
   "mimetype": "text/x-python",
   "name": "python",
   "nbconvert_exporter": "python",
   "pygments_lexer": "ipython3",
   "version": "3.8.8"
  }
 },
 "nbformat": 4,
 "nbformat_minor": 5
}
