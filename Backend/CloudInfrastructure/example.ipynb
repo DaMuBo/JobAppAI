{
 "cells": [
  {
   "cell_type": "code",
   "execution_count": 3,
   "id": "d1378a9f-09a9-4702-a0f7-1b884f238a36",
   "metadata": {},
   "outputs": [],
   "source": [
    "from diagrams import Diagram\n",
    "from diagrams.aws.compute import EC2\n",
    "from diagrams.aws.database import RDS\n",
    "from diagrams.aws.network import ELB\n",
    "\n",
    "with Diagram(\"ExampleDiagram_V0_1\", show=True, direction=\"TB\"):\n",
    "    ELB(\"lb\") >> [EC2(\"worker1\"),\n",
    "                  EC2(\"worker2\"),\n",
    "                  EC2(\"worker3\"),\n",
    "                  EC2(\"worker4\"),\n",
    "                  EC2(\"worker5\")] >> RDS(\"events\")"
   ]
  },
  {
   "cell_type": "code",
   "execution_count": null,
   "id": "428856f0-656d-477a-8264-d101bdd56212",
   "metadata": {},
   "outputs": [],
   "source": []
  }
 ],
 "metadata": {
  "kernelspec": {
   "display_name": "Python 3",
   "language": "python",
   "name": "python3"
  },
  "language_info": {
   "codemirror_mode": {
    "name": "ipython",
    "version": 3
   },
   "file_extension": ".py",
   "mimetype": "text/x-python",
   "name": "python",
   "nbconvert_exporter": "python",
   "pygments_lexer": "ipython3",
   "version": "3.8.8"
  }
 },
 "nbformat": 4,
 "nbformat_minor": 5
}
