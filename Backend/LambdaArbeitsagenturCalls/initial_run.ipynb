{
 "cells": [
  {
   "cell_type": "code",
   "execution_count": 1,
   "id": "16c1558d-4a0c-444c-a359-4593076f8904",
   "metadata": {},
   "outputs": [
    {
     "name": "stdout",
     "output_type": "stream",
     "text": [
      "{'aktuelleVeroeffentlichungsdatum': '2022-05-05', 'laufzeitBis': '2022-05-09', 'alternativBerufe': ['Fachinformatiker/in - Daten- und Prozessanalyse', 'Data Scientist'], 'angebotsart': '1', 'arbeitgeber': 'STRATO Personal GmbH', 'branchengruppe': 'Arbeitnehmerüberlassung, Zeitarbeit', 'arbeitgeberHashId': 'C7BbO1yKc47yC9fU0a41ChoVT_kx3Cl7JzDiFuuYDYs=', 'arbeitsorte': [{'land': 'Deutschland', 'region': 'Bayern', 'plz': '86609', 'ort': 'Donauwörth', 'koordinaten': {'lat': 48.7182105, 'lon': 10.7701687}}], 'arbeitszeitmodelle': ['VOLLZEIT'], 'befristung': '2', 'uebernahme': False, 'betriebsgroesse': '1', 'eintrittsdatum': '2022-05-06', 'ersteVeroeffentlichungsdatum': '2022-05-05', 'allianzpartner': 'compleet GmbH', 'allianzpartnerUrl': 'www.germanpersonnel.de/jobboerse/', 'externeUrl': 'https://jobboerse.compleet.com/persy/l/ba-8y5r4-b?externalId=2415571045', 'titel': 'Data Analyst - Data Assessment Engineering (m/w/d)', 'hashId': 'dof8z6YNzdbtWbO0Pfa4DioyIBtl0_RBnv184Y9lVp0=', 'beruf': 'Data Engineer', 'modifikationsTimestamp': '2022-05-05T12:04:07.267', 'stellenbeschreibung': 'Als dynamischer und moderner Personaldienstleister bieten wir mit\\nunserer langjährigen Erfahrung und unserem umfassendem Markt-Know-how\\nin einem breiten Spektrum unterschiedlicher Branchen spannende\\nPositionen bei interessanten und innovativen Unternehmen. Profitieren\\nSie von unseren nationalen und internationalen Netzwerken und nutzen\\nSie STRATO personal als Ihr persönliches Sprungbrett. Wir bieten\\nIhnen umfassende Betreuung und übernehmen alle administrativen\\nProzesse rund um die Bewerbung – selbstverständlich für Sie\\nkostenfrei. \\n\\nFür unseren renommierten Kunden in der Luftfahrtbranche suchen wir\\nzum nächstmöglichen Zeitpunkt einen motivierten Mitarbeiter für die\\nPosition als \"Data Analyst (m/w/d) - im Data Assessment Engineering\". \\n\\n\\xa0 \\n\\nIhre Aufgaben: \\n\\n - Auswertungen von Engineering Daten (siehe Beschreibung unten)\\n - Ergänzung und Verbesserung von Daten Bewertungsprozessen\\n - Sammeln Sie Anfragen zur Externalisierung von Daten an\\nTochterunternehmen oder Subunternehmer oder an die Cloud\\n - Bewertung der Sensibilität gemäß Vorschriften (Exportkontrolle,\\nVerteidigung, DSGVO, NDA)\\n - Schlagen Sie realistische Kompromisse und Lösungen vor, wenn die\\nExternalisierung von Daten aufgrund von Regularien blockiert ist\\n - Sammeln Sie technische Stammdaten von den Entwicklern im\\nKonstruktionsbüro\\n - Strukturieren von Daten (Beschreibung, Attribute, Reifegrad)\\n - Qualität und Sensitivität beurteilen\\n - Deklarieren Sie diese in den digitalen AH-Datenkatalog\\n - Verwalten Sie den Massen-Upload der von Spezialisten\\ndurchgeführten Datenbereinigung\\n - Überwachen Sie Aktualisierungen\\n - Steuerung der Erstellung von Department Classification Guides\\n - Gewährleistung von Kohärenz, Konsistenz und Ausrichtung mit\\nAH-Sicherheitsrichtlinien und -methoden\\n - Monitoring: Sie erstellen und verbessern KPIs der Aktivität\\n\\n\\xa0 \\n\\n\\xa0 \\n\\nIhr Profil: \\n\\n - Abgeschlossenes Studium in Digital Engineering, Informatik oder\\nvergleichbare Qualifikation\\n - Kenntnisse der Vorschriften (Exportkontrolle) von Vorteil\\n - Datenanalyse (z. B. innerhalb von Skywise) von Vorteil\\n - Mehrere Jahre Erfahrung im Design Office, Support Engineering\\n - Kenntnisse über technische Daten\\n - Vertiefte Anwendungskenntnisse mit Python\\n - Detaillierte Spezialkenntnisse im Umgang mit den MS-Office\\nProgrammen\\n - Sehr gute Englischkenntnisse\\n - Fähigkeit, Informationen zu synthetisieren und zu strukturieren\\n - Wille nachhaltige Lösungen zu entwickeln\\n - Neugierde und Geduld\\n - Sehr gute Kommunikationsfähigkeiten\\n\\n\\xa0 \\n\\nWir bieten Ihnen: \\n\\n - unbefristeter Arbeitsvertrag\\n - übertarifliche Vergütung zzgl. Urlaubs- und Weihnachtsgeld +\\nLeistungsprämien\\n - Perspektive auf Übernahme\\n - Betriebliche Altersvorsorge mit Arbeitgeberzuschuss\\n - Mitarbeiterempfehlungsprogramm mit attraktiven Prämien\\n - Persönliche, standortnahe Betreuung und Beratung \\n - Kostenübernahme für Arbeitskleidung und Gesundheitsuntersuchungen\\n - innovative und führende Unternehmen in Deutschland\\n\\nInteressiert? Dann bewerben Sie sich bitte mit Ihren vollständigen\\nBewerbungsunterlagen, \\n\\n(aktueller Lebenslauf sowie Ihre Zeugnisse der letzten drei\\nberuflichen Stationen). \\n\\nBitte haben Sie dafür Verständnis, dass Ihre Unterlagen aus\\norganisatorischen Gründen nicht zurückgegeben werden können.\\nVerzichten Sie deshalb auf die Zusendung teurer Mappen und Fotos,\\nsowie auf Originalunterlagen. \\n\\nBitte beachten Sie, dass wir Ihre Daten in unserem EDV-System gemäß\\nden Bestimmungen des Bundesdatenschutzgesetzes elektronisch bearbeiten\\nbzw. speichern, wenn Sie sich bewerben. Mit Ihrer Bewerbung stimmen\\nSie der elektronischen Verarbeitung/Speicherung Ihrer Daten zu. Die\\nSpeicherung können Sie jederzeit widerrufen. \\n\\n\\xa0', 'refnr': '11119-2415571045-S', 'chiffrenummer': '16446876', 'fuerFluechtlingeGeeignet': False, 'nurFuerSchwerbehinderte': False, 'anzahlOffeneStellen': 1, 'arbeitgeberAdresse': {'land': 'Deutschland', 'region': 'Bayern', 'plz': '86836', 'ort': 'Graben, Lechfeld', 'strasse': 'Weberstraße 6'}, 'mobilitaet': {'reisebereitschaft': '1', 'fahrzeugErforderlich': False}, 'fuehrungskompetenzen': {'hatVollmacht': False, 'hatBudgetverantwortung': False}, 'hauptDkz': '135872', 'alternativDkzs': ['133554', '129987'], 'istBetreut': False, 'istGoogleJobsRelevant': False, 'anzeigeAnonym': False}\n"
     ]
    }
   ],
   "source": [
    "from lambda_function import *\n",
    "import json\n",
    "import warnings\n",
    "warnings.filterwarnings(\"ignore\")\n",
    "\n",
    "myList = job_rotator(0,'data')\n",
    "for row in myList:\n",
    "    for key, value in row.items():\n",
    "        print(value)\n",
    "    break"
   ]
  },
  {
   "cell_type": "code",
   "execution_count": 8,
   "id": "ba35fe3c-e190-426d-90c8-3ba1d5d0b33a",
   "metadata": {},
   "outputs": [
    {
     "name": "stdout",
     "output_type": "stream",
     "text": [
      "{'aktuelleVeroeffentlichungsdatum': {'S': '2022-05-05'}, 'laufzeitBis': {'S': '2022-05-09'}, 'alternativBerufe': [{'S': 'Fachinformatiker/in - Daten- und Prozessanalyse'}, {'S': 'Data Scientist'}], 'angebotsart': {'S': '1'}, 'arbeitgeber': {'S': 'STRATO Personal GmbH'}, 'branchengruppe': {'S': 'Arbeitnehmerüberlassung, Zeitarbeit'}, 'arbeitgeberHashId': {'S': 'C7BbO1yKc47yC9fU0a41ChoVT_kx3Cl7JzDiFuuYDYs='}, 'arbeitsorte': [{'land': {'S': 'Deutschland'}, 'region': {'S': 'Bayern'}, 'plz': {'S': '86609'}, 'ort': {'S': 'Donauwörth'}, 'koordinaten': {'M': {}}}], 'arbeitszeitmodelle': [{'S': 'VOLLZEIT'}], 'befristung': {'S': '2'}, 'betriebsgroesse': {'S': '1'}, 'eintrittsdatum': {'S': '2022-05-06'}, 'ersteVeroeffentlichungsdatum': {'S': '2022-05-05'}, 'allianzpartner': {'S': 'compleet GmbH'}, 'allianzpartnerUrl': {'S': 'www.germanpersonnel.de/jobboerse/'}, 'externeUrl': {'S': 'https://jobboerse.compleet.com/persy/l/ba-8y5r4-b?externalId=2415571045'}, 'titel': {'S': 'Data Analyst - Data Assessment Engineering (m/w/d)'}, 'hashId': {'S': 'dof8z6YNzdbtWbO0Pfa4DioyIBtl0_RBnv184Y9lVp0='}, 'beruf': {'S': 'Data Engineer'}, 'modifikationsTimestamp': {'S': '2022-05-05T12:04:07.267'}, 'stellenbeschreibung': {'S': 'Als dynamischer und moderner Personaldienstleister bieten wir mit\\nunserer langjährigen Erfahrung und unserem umfassendem Markt-Know-how\\nin einem breiten Spektrum unterschiedlicher Branchen spannende\\nPositionen bei interessanten und innovativen Unternehmen. Profitieren\\nSie von unseren nationalen und internationalen Netzwerken und nutzen\\nSie STRATO personal als Ihr persönliches Sprungbrett. Wir bieten\\nIhnen umfassende Betreuung und übernehmen alle administrativen\\nProzesse rund um die Bewerbung – selbstverständlich für Sie\\nkostenfrei. \\n\\nFür unseren renommierten Kunden in der Luftfahrtbranche suchen wir\\nzum nächstmöglichen Zeitpunkt einen motivierten Mitarbeiter für die\\nPosition als \"Data Analyst (m/w/d) - im Data Assessment Engineering\". \\n\\n\\xa0 \\n\\nIhre Aufgaben: \\n\\n - Auswertungen von Engineering Daten (siehe Beschreibung unten)\\n - Ergänzung und Verbesserung von Daten Bewertungsprozessen\\n - Sammeln Sie Anfragen zur Externalisierung von Daten an\\nTochterunternehmen oder Subunternehmer oder an die Cloud\\n - Bewertung der Sensibilität gemäß Vorschriften (Exportkontrolle,\\nVerteidigung, DSGVO, NDA)\\n - Schlagen Sie realistische Kompromisse und Lösungen vor, wenn die\\nExternalisierung von Daten aufgrund von Regularien blockiert ist\\n - Sammeln Sie technische Stammdaten von den Entwicklern im\\nKonstruktionsbüro\\n - Strukturieren von Daten (Beschreibung, Attribute, Reifegrad)\\n - Qualität und Sensitivität beurteilen\\n - Deklarieren Sie diese in den digitalen AH-Datenkatalog\\n - Verwalten Sie den Massen-Upload der von Spezialisten\\ndurchgeführten Datenbereinigung\\n - Überwachen Sie Aktualisierungen\\n - Steuerung der Erstellung von Department Classification Guides\\n - Gewährleistung von Kohärenz, Konsistenz und Ausrichtung mit\\nAH-Sicherheitsrichtlinien und -methoden\\n - Monitoring: Sie erstellen und verbessern KPIs der Aktivität\\n\\n\\xa0 \\n\\n\\xa0 \\n\\nIhr Profil: \\n\\n - Abgeschlossenes Studium in Digital Engineering, Informatik oder\\nvergleichbare Qualifikation\\n - Kenntnisse der Vorschriften (Exportkontrolle) von Vorteil\\n - Datenanalyse (z. B. innerhalb von Skywise) von Vorteil\\n - Mehrere Jahre Erfahrung im Design Office, Support Engineering\\n - Kenntnisse über technische Daten\\n - Vertiefte Anwendungskenntnisse mit Python\\n - Detaillierte Spezialkenntnisse im Umgang mit den MS-Office\\nProgrammen\\n - Sehr gute Englischkenntnisse\\n - Fähigkeit, Informationen zu synthetisieren und zu strukturieren\\n - Wille nachhaltige Lösungen zu entwickeln\\n - Neugierde und Geduld\\n - Sehr gute Kommunikationsfähigkeiten\\n\\n\\xa0 \\n\\nWir bieten Ihnen: \\n\\n - unbefristeter Arbeitsvertrag\\n - übertarifliche Vergütung zzgl. Urlaubs- und Weihnachtsgeld +\\nLeistungsprämien\\n - Perspektive auf Übernahme\\n - Betriebliche Altersvorsorge mit Arbeitgeberzuschuss\\n - Mitarbeiterempfehlungsprogramm mit attraktiven Prämien\\n - Persönliche, standortnahe Betreuung und Beratung \\n - Kostenübernahme für Arbeitskleidung und Gesundheitsuntersuchungen\\n - innovative und führende Unternehmen in Deutschland\\n\\nInteressiert? Dann bewerben Sie sich bitte mit Ihren vollständigen\\nBewerbungsunterlagen, \\n\\n(aktueller Lebenslauf sowie Ihre Zeugnisse der letzten drei\\nberuflichen Stationen). \\n\\nBitte haben Sie dafür Verständnis, dass Ihre Unterlagen aus\\norganisatorischen Gründen nicht zurückgegeben werden können.\\nVerzichten Sie deshalb auf die Zusendung teurer Mappen und Fotos,\\nsowie auf Originalunterlagen. \\n\\nBitte beachten Sie, dass wir Ihre Daten in unserem EDV-System gemäß\\nden Bestimmungen des Bundesdatenschutzgesetzes elektronisch bearbeiten\\nbzw. speichern, wenn Sie sich bewerben. Mit Ihrer Bewerbung stimmen\\nSie der elektronischen Verarbeitung/Speicherung Ihrer Daten zu. Die\\nSpeicherung können Sie jederzeit widerrufen. \\n\\n\\xa0'}, 'refnr': {'S': '11119-2415571045-S'}, 'chiffrenummer': {'S': '16446876'}, 'anzahlOffeneStellen': {'I': '1'}, 'arbeitgeberAdresse': {'M': {'land': {'S': 'Deutschland'}, 'region': {'S': 'Bayern'}, 'plz': {'S': '86836'}, 'ort': {'S': 'Graben, Lechfeld'}, 'strasse': {'S': 'Weberstraße 6'}}}, 'mobilitaet': {'M': {'reisebereitschaft': {'S': '1'}}}, 'fuehrungskompetenzen': {'M': {}}, 'hauptDkz': {'S': '135872'}, 'alternativDkzs': [{'S': '133554'}, {'S': '129987'}]}\n"
     ]
    },
    {
     "data": {
      "text/plain": [
       "bool"
      ]
     },
     "execution_count": 8,
     "metadata": {},
     "output_type": "execute_result"
    }
   ],
   "source": [
    "def dict_to_item(raw):\n",
    "    \"\"\"\n",
    "    takes a dictionary and is returning the datatype of each item in a format for writing it into a dynamoDB\n",
    "    is using recursive calls on itself to get the informations out of lists and dicitonarys\n",
    "    \n",
    "    \"\"\"\n",
    "    if type(raw) is dict:\n",
    "        resp = {}\n",
    "        for k,v in raw.items():\n",
    "            if type(v) is str:\n",
    "                resp[k] = {\n",
    "                    'S': v\n",
    "                }\n",
    "            elif type(v) is int:\n",
    "                resp[k] = {\n",
    "                    'I': str(v)\n",
    "                }\n",
    "            elif type(v) is dict:\n",
    "                resp[k] = {\n",
    "                    'M': dict_to_item(v)\n",
    "                }\n",
    "            elif type(v) is list:\n",
    "                resp[k] = []\n",
    "                for i in v:\n",
    "                    resp[k].append(dict_to_item(i))\n",
    "                    \n",
    "        return resp\n",
    "    elif type(raw) is str:\n",
    "        return {\n",
    "            'S': raw\n",
    "        }\n",
    "    elif type(raw) is int:\n",
    "        return {\n",
    "            'I': str(raw)\n",
    "        }\n",
    "\n",
    "for row in myList:\n",
    "    print(dict_to_item(row))\n",
    "    break\n",
    "type(value)"
   ]
  },
  {
   "cell_type": "code",
   "execution_count": 2,
   "id": "2b610e8b-594c-492a-95ea-93614913bc71",
   "metadata": {},
   "outputs": [
    {
     "data": {
      "text/plain": [
       "{'aktuelleVeroeffentlichungsdatum': '2022-05-05',\n",
       " 'laufzeitBis': '2022-05-09',\n",
       " 'alternativBerufe': ['Fachinformatiker/in - Daten- und Prozessanalyse',\n",
       "  'Data Scientist'],\n",
       " 'angebotsart': '1',\n",
       " 'arbeitgeber': 'STRATO Personal GmbH',\n",
       " 'branchengruppe': 'Arbeitnehmerüberlassung, Zeitarbeit',\n",
       " 'arbeitgeberHashId': 'C7BbO1yKc47yC9fU0a41ChoVT_kx3Cl7JzDiFuuYDYs=',\n",
       " 'arbeitsorte': [{'land': 'Deutschland',\n",
       "   'region': 'Bayern',\n",
       "   'plz': '86609',\n",
       "   'ort': 'Donauwörth',\n",
       "   'koordinaten': {'lat': 48.7182105, 'lon': 10.7701687}}],\n",
       " 'arbeitszeitmodelle': ['VOLLZEIT'],\n",
       " 'befristung': '2',\n",
       " 'uebernahme': False,\n",
       " 'betriebsgroesse': '1',\n",
       " 'eintrittsdatum': '2022-05-06',\n",
       " 'ersteVeroeffentlichungsdatum': '2022-05-05',\n",
       " 'allianzpartner': 'compleet GmbH',\n",
       " 'allianzpartnerUrl': 'www.germanpersonnel.de/jobboerse/',\n",
       " 'externeUrl': 'https://jobboerse.compleet.com/persy/l/ba-8y5r4-b?externalId=2415571045',\n",
       " 'titel': 'Data Analyst - Data Assessment Engineering (m/w/d)',\n",
       " 'hashId': 'dof8z6YNzdbtWbO0Pfa4DioyIBtl0_RBnv184Y9lVp0=',\n",
       " 'beruf': 'Data Engineer',\n",
       " 'modifikationsTimestamp': '2022-05-05T12:04:07.267',\n",
       " 'stellenbeschreibung': 'Als dynamischer und moderner Personaldienstleister bieten wir mit\\nunserer langjährigen Erfahrung und unserem umfassendem Markt-Know-how\\nin einem breiten Spektrum unterschiedlicher Branchen spannende\\nPositionen bei interessanten und innovativen Unternehmen. Profitieren\\nSie von unseren nationalen und internationalen Netzwerken und nutzen\\nSie STRATO personal als Ihr persönliches Sprungbrett. Wir bieten\\nIhnen umfassende Betreuung und übernehmen alle administrativen\\nProzesse rund um die Bewerbung – selbstverständlich für Sie\\nkostenfrei. \\n\\nFür unseren renommierten Kunden in der Luftfahrtbranche suchen wir\\nzum nächstmöglichen Zeitpunkt einen motivierten Mitarbeiter für die\\nPosition als \"Data Analyst (m/w/d) - im Data Assessment Engineering\". \\n\\n\\xa0 \\n\\nIhre Aufgaben: \\n\\n - Auswertungen von Engineering Daten (siehe Beschreibung unten)\\n - Ergänzung und Verbesserung von Daten Bewertungsprozessen\\n - Sammeln Sie Anfragen zur Externalisierung von Daten an\\nTochterunternehmen oder Subunternehmer oder an die Cloud\\n - Bewertung der Sensibilität gemäß Vorschriften (Exportkontrolle,\\nVerteidigung, DSGVO, NDA)\\n - Schlagen Sie realistische Kompromisse und Lösungen vor, wenn die\\nExternalisierung von Daten aufgrund von Regularien blockiert ist\\n - Sammeln Sie technische Stammdaten von den Entwicklern im\\nKonstruktionsbüro\\n - Strukturieren von Daten (Beschreibung, Attribute, Reifegrad)\\n - Qualität und Sensitivität beurteilen\\n - Deklarieren Sie diese in den digitalen AH-Datenkatalog\\n - Verwalten Sie den Massen-Upload der von Spezialisten\\ndurchgeführten Datenbereinigung\\n - Überwachen Sie Aktualisierungen\\n - Steuerung der Erstellung von Department Classification Guides\\n - Gewährleistung von Kohärenz, Konsistenz und Ausrichtung mit\\nAH-Sicherheitsrichtlinien und -methoden\\n - Monitoring: Sie erstellen und verbessern KPIs der Aktivität\\n\\n\\xa0 \\n\\n\\xa0 \\n\\nIhr Profil: \\n\\n - Abgeschlossenes Studium in Digital Engineering, Informatik oder\\nvergleichbare Qualifikation\\n - Kenntnisse der Vorschriften (Exportkontrolle) von Vorteil\\n - Datenanalyse (z. B. innerhalb von Skywise) von Vorteil\\n - Mehrere Jahre Erfahrung im Design Office, Support Engineering\\n - Kenntnisse über technische Daten\\n - Vertiefte Anwendungskenntnisse mit Python\\n - Detaillierte Spezialkenntnisse im Umgang mit den MS-Office\\nProgrammen\\n - Sehr gute Englischkenntnisse\\n - Fähigkeit, Informationen zu synthetisieren und zu strukturieren\\n - Wille nachhaltige Lösungen zu entwickeln\\n - Neugierde und Geduld\\n - Sehr gute Kommunikationsfähigkeiten\\n\\n\\xa0 \\n\\nWir bieten Ihnen: \\n\\n - unbefristeter Arbeitsvertrag\\n - übertarifliche Vergütung zzgl. Urlaubs- und Weihnachtsgeld +\\nLeistungsprämien\\n - Perspektive auf Übernahme\\n - Betriebliche Altersvorsorge mit Arbeitgeberzuschuss\\n - Mitarbeiterempfehlungsprogramm mit attraktiven Prämien\\n - Persönliche, standortnahe Betreuung und Beratung \\n - Kostenübernahme für Arbeitskleidung und Gesundheitsuntersuchungen\\n - innovative und führende Unternehmen in Deutschland\\n\\nInteressiert? Dann bewerben Sie sich bitte mit Ihren vollständigen\\nBewerbungsunterlagen, \\n\\n(aktueller Lebenslauf sowie Ihre Zeugnisse der letzten drei\\nberuflichen Stationen). \\n\\nBitte haben Sie dafür Verständnis, dass Ihre Unterlagen aus\\norganisatorischen Gründen nicht zurückgegeben werden können.\\nVerzichten Sie deshalb auf die Zusendung teurer Mappen und Fotos,\\nsowie auf Originalunterlagen. \\n\\nBitte beachten Sie, dass wir Ihre Daten in unserem EDV-System gemäß\\nden Bestimmungen des Bundesdatenschutzgesetzes elektronisch bearbeiten\\nbzw. speichern, wenn Sie sich bewerben. Mit Ihrer Bewerbung stimmen\\nSie der elektronischen Verarbeitung/Speicherung Ihrer Daten zu. Die\\nSpeicherung können Sie jederzeit widerrufen. \\n\\n\\xa0',\n",
       " 'refnr': '11119-2415571045-S',\n",
       " 'chiffrenummer': '16446876',\n",
       " 'fuerFluechtlingeGeeignet': False,\n",
       " 'nurFuerSchwerbehinderte': False,\n",
       " 'anzahlOffeneStellen': 1,\n",
       " 'arbeitgeberAdresse': {'land': 'Deutschland',\n",
       "  'region': 'Bayern',\n",
       "  'plz': '86836',\n",
       "  'ort': 'Graben, Lechfeld',\n",
       "  'strasse': 'Weberstraße 6'},\n",
       " 'mobilitaet': {'reisebereitschaft': '1', 'fahrzeugErforderlich': False},\n",
       " 'fuehrungskompetenzen': {'hatVollmacht': False,\n",
       "  'hatBudgetverantwortung': False},\n",
       " 'hauptDkz': '135872',\n",
       " 'alternativDkzs': ['133554', '129987'],\n",
       " 'istBetreut': False,\n",
       " 'istGoogleJobsRelevant': False,\n",
       " 'anzeigeAnonym': False}"
      ]
     },
     "execution_count": 2,
     "metadata": {},
     "output_type": "execute_result"
    }
   ],
   "source": [
    "    newdict = {\n",
    "        \"refnr\":{\n",
    "            \"S\":row['refnr']\n",
    "        },\n",
    "        \"aktuelleVeroeffentlichuungsdatum\":{\n",
    "            \"S\":row['aktuelleVeroeffentlichuungsdatum']\n",
    "        },\n",
    "        'laufzeitBis':{\n",
    "            \"S\":row['laufzeitBis']\n",
    "        },\n",
    "        'alternativBerufe':{\n",
    "            \"L\":\n",
    "        }\n",
    "    }"
   ]
  },
  {
   "cell_type": "code",
   "execution_count": 1,
   "id": "e1c5b897-1b68-428f-8c24-700f570db913",
   "metadata": {},
   "outputs": [],
   "source": [
    "from datetime import datetime\n",
    "\n",
    "datobj = datetime.now()"
   ]
  },
  {
   "cell_type": "code",
   "execution_count": 9,
   "id": "e2c9f895-dc14-4276-9269-6fa7574130c7",
   "metadata": {},
   "outputs": [],
   "source": []
  },
  {
   "cell_type": "code",
   "execution_count": 10,
   "id": "d4188190-b6dc-4024-b911-d796e3e2c61f",
   "metadata": {},
   "outputs": [
    {
     "data": {
      "text/plain": [
       "'2022-05-06'"
      ]
     },
     "execution_count": 10,
     "metadata": {},
     "output_type": "execute_result"
    }
   ],
   "source": [
    "mystr"
   ]
  },
  {
   "cell_type": "code",
   "execution_count": null,
   "id": "6bf43c37-f95e-4cc7-b514-7ee72470e793",
   "metadata": {},
   "outputs": [],
   "source": []
  }
 ],
 "metadata": {
  "kernelspec": {
   "display_name": "Python 3",
   "language": "python",
   "name": "python3"
  },
  "language_info": {
   "codemirror_mode": {
    "name": "ipython",
    "version": 3
   },
   "file_extension": ".py",
   "mimetype": "text/x-python",
   "name": "python",
   "nbconvert_exporter": "python",
   "pygments_lexer": "ipython3",
   "version": "3.8.8"
  }
 },
 "nbformat": 4,
 "nbformat_minor": 5
}
