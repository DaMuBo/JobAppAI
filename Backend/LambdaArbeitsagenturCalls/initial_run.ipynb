{
 "cells": [
  {
   "cell_type": "code",
   "execution_count": null,
   "id": "16c1558d-4a0c-444c-a359-4593076f8904",
   "metadata": {},
   "outputs": [],
   "source": [
    "from lambda_function import *\n",
    "import json\n",
    "import warnings\n",
    "warnings.filterwarnings(\"ignore\")\n",
    "\n",
    "myList = job_rotator(None,'data')\n",
    "for row in myList:\n",
    "    myFile = row\n",
    "    filename = row['refnr'] + '.json'\n",
    "    s3_path = \".\\\\raw\\\\\" + filename\n",
    "    \n",
    "    with open(s3_path, 'w') as fp:\n",
    "        json.dump(myFile, fp)"
   ]
  },
  {
   "cell_type": "code",
   "execution_count": 6,
   "id": "ba35fe3c-e190-426d-90c8-3ba1d5d0b33a",
   "metadata": {},
   "outputs": [
    {
     "name": "stdout",
     "output_type": "stream",
     "text": [
      "b'13319-611382\\\\x01_331680LS-S.json'\n",
      "13319-611382_x01_331680LS-S.json\n"
     ]
    }
   ],
   "source": [
    "string = \"13319-611382\\1_331680LS-S.json\"\n",
    "\n",
    "string = string.encode('unicode-escape')\n",
    "print(string)\n",
    "\n",
    "string = string.decode('ascii','ignore').replace('\\\\','_')\n",
    "print(string)"
   ]
  },
  {
   "cell_type": "code",
   "execution_count": null,
   "id": "2b610e8b-594c-492a-95ea-93614913bc71",
   "metadata": {},
   "outputs": [],
   "source": [
    "'13319-611382/1_331680LS-S'"
   ]
  }
 ],
 "metadata": {
  "kernelspec": {
   "display_name": "Python 3",
   "language": "python",
   "name": "python3"
  },
  "language_info": {
   "codemirror_mode": {
    "name": "ipython",
    "version": 3
   },
   "file_extension": ".py",
   "mimetype": "text/x-python",
   "name": "python",
   "nbconvert_exporter": "python",
   "pygments_lexer": "ipython3",
   "version": "3.8.8"
  }
 },
 "nbformat": 4,
 "nbformat_minor": 5
}
